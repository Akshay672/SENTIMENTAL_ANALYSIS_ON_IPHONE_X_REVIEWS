{
 "cells": [
  {
   "cell_type": "markdown",
   "id": "7e20d34e",
   "metadata": {},
   "source": [
    "# Sentimental Analysis on IPhone X-Review"
   ]
  },
  {
   "cell_type": "markdown",
   "id": "898b44d6",
   "metadata": {},
   "source": [
    "#### Context\n",
    "Sentimental Analysis is really powerful to understand the popularity of a product in the market. It provides feedback to the company regarding the ups and downs of the product from different perspective.\n",
    "\n",
    "#### Content\n",
    "The dataset contains public review and comments regarding the IPhoneX released in 2017 , along with the username and the date of the review."
   ]
  },
  {
   "cell_type": "code",
   "execution_count": 1,
   "id": "6e69ac7f",
   "metadata": {},
   "outputs": [],
   "source": [
    "#importing libraries"
   ]
  },
  {
   "cell_type": "code",
   "execution_count": 2,
   "id": "97f7a295",
   "metadata": {},
   "outputs": [],
   "source": [
    "import pandas as pd\n",
    "import numpy as np\n",
    "import seaborn as sns\n",
    "import matplotlib.pyplot as plt\n",
    "import warnings\n",
    "warnings.filterwarnings('ignore')\n",
    "from sklearn.model_selection import train_test_split"
   ]
  },
  {
   "cell_type": "code",
   "execution_count": 8,
   "id": "f23a60da",
   "metadata": {},
   "outputs": [],
   "source": [
    "df=pd.read_csv('D:\\\\M. Tech in Data Science & Machine Learning\\\\Natural language processing (NLP)\\\\Sem Preparation\\\\IPhoneReview\\\\IPhoneReview.csv',encoding='latin1')"
   ]
  },
  {
   "cell_type": "code",
   "execution_count": 9,
   "id": "b7952602",
   "metadata": {},
   "outputs": [
    {
     "data": {
      "text/html": [
       "<div>\n",
       "<style scoped>\n",
       "    .dataframe tbody tr th:only-of-type {\n",
       "        vertical-align: middle;\n",
       "    }\n",
       "\n",
       "    .dataframe tbody tr th {\n",
       "        vertical-align: top;\n",
       "    }\n",
       "\n",
       "    .dataframe thead th {\n",
       "        text-align: right;\n",
       "    }\n",
       "</style>\n",
       "<table border=\"1\" class=\"dataframe\">\n",
       "  <thead>\n",
       "    <tr style=\"text-align: right;\">\n",
       "      <th></th>\n",
       "      <th>Unnamed: 0</th>\n",
       "      <th>Date</th>\n",
       "      <th>Review</th>\n",
       "      <th>UserName</th>\n",
       "    </tr>\n",
       "  </thead>\n",
       "  <tbody>\n",
       "    <tr>\n",
       "      <th>0</th>\n",
       "      <td>0</td>\n",
       "      <td>16 Jan 2018</td>\n",
       "      <td>mir, 16 Jan 2018My Huawei Mate 10 Pro is alrea...</td>\n",
       "      <td>Mr No</td>\n",
       "    </tr>\n",
       "    <tr>\n",
       "      <th>1</th>\n",
       "      <td>1</td>\n",
       "      <td>16 Jan 2018</td>\n",
       "      <td>This month it fell from 1149Â? to 999Â? in Ger...</td>\n",
       "      <td>Anonymous</td>\n",
       "    </tr>\n",
       "    <tr>\n",
       "      <th>2</th>\n",
       "      <td>2</td>\n",
       "      <td>16 Jan 2018</td>\n",
       "      <td>chopp, 16 Jan 2018hey guys iam confused betwee...</td>\n",
       "      <td>Anonymous</td>\n",
       "    </tr>\n",
       "    <tr>\n",
       "      <th>3</th>\n",
       "      <td>3</td>\n",
       "      <td>16 Jan 2018</td>\n",
       "      <td>chopp, 16 Jan 2018hey guys iam confused betwee...</td>\n",
       "      <td>Tony</td>\n",
       "    </tr>\n",
       "    <tr>\n",
       "      <th>4</th>\n",
       "      <td>4</td>\n",
       "      <td>16 Jan 2018</td>\n",
       "      <td>hey guys iam confused between buying iphone x ...</td>\n",
       "      <td>Anonymous</td>\n",
       "    </tr>\n",
       "  </tbody>\n",
       "</table>\n",
       "</div>"
      ],
      "text/plain": [
       "   Unnamed: 0         Date                                             Review  \\\n",
       "0           0  16 Jan 2018  mir, 16 Jan 2018My Huawei Mate 10 Pro is alrea...   \n",
       "1           1  16 Jan 2018  This month it fell from 1149Â? to 999Â? in Ger...   \n",
       "2           2  16 Jan 2018  chopp, 16 Jan 2018hey guys iam confused betwee...   \n",
       "3           3  16 Jan 2018  chopp, 16 Jan 2018hey guys iam confused betwee...   \n",
       "4           4  16 Jan 2018  hey guys iam confused between buying iphone x ...   \n",
       "\n",
       "    UserName  \n",
       "0      Mr No  \n",
       "1  Anonymous  \n",
       "2  Anonymous  \n",
       "3       Tony  \n",
       "4  Anonymous  "
      ]
     },
     "execution_count": 9,
     "metadata": {},
     "output_type": "execute_result"
    }
   ],
   "source": [
    "df.head()"
   ]
  },
  {
   "cell_type": "code",
   "execution_count": 10,
   "id": "0c69b496",
   "metadata": {},
   "outputs": [
    {
     "data": {
      "text/html": [
       "<div>\n",
       "<style scoped>\n",
       "    .dataframe tbody tr th:only-of-type {\n",
       "        vertical-align: middle;\n",
       "    }\n",
       "\n",
       "    .dataframe tbody tr th {\n",
       "        vertical-align: top;\n",
       "    }\n",
       "\n",
       "    .dataframe thead th {\n",
       "        text-align: right;\n",
       "    }\n",
       "</style>\n",
       "<table border=\"1\" class=\"dataframe\">\n",
       "  <thead>\n",
       "    <tr style=\"text-align: right;\">\n",
       "      <th></th>\n",
       "      <th>Unnamed: 0</th>\n",
       "      <th>Date</th>\n",
       "      <th>Review</th>\n",
       "      <th>UserName</th>\n",
       "    </tr>\n",
       "  </thead>\n",
       "  <tbody>\n",
       "    <tr>\n",
       "      <th>1995</th>\n",
       "      <td>1995</td>\n",
       "      <td>12 Sep 2017</td>\n",
       "      <td>Funny how Android guys react to this phone and...</td>\n",
       "      <td>Anonymous</td>\n",
       "    </tr>\n",
       "    <tr>\n",
       "      <th>1996</th>\n",
       "      <td>1996</td>\n",
       "      <td>12 Sep 2017</td>\n",
       "      <td>This is the most ugly phone i have ever seen. ...</td>\n",
       "      <td>Daniel M.</td>\n",
       "    </tr>\n",
       "    <tr>\n",
       "      <th>1997</th>\n",
       "      <td>1997</td>\n",
       "      <td>12 Sep 2017</td>\n",
       "      <td>No Headphone jack. PPI &lt; 500. For a flagship W...</td>\n",
       "      <td>Anonymous</td>\n",
       "    </tr>\n",
       "    <tr>\n",
       "      <th>1998</th>\n",
       "      <td>1998</td>\n",
       "      <td>12 Sep 2017</td>\n",
       "      <td>no fingerprint sensor :))</td>\n",
       "      <td>alex</td>\n",
       "    </tr>\n",
       "    <tr>\n",
       "      <th>1999</th>\n",
       "      <td>1999</td>\n",
       "      <td>12 Sep 2017</td>\n",
       "      <td>Will Samsung be making that screen? :)\\r\\n \\r\\...</td>\n",
       "      <td>Michael</td>\n",
       "    </tr>\n",
       "  </tbody>\n",
       "</table>\n",
       "</div>"
      ],
      "text/plain": [
       "      Unnamed: 0         Date  \\\n",
       "1995        1995  12 Sep 2017   \n",
       "1996        1996  12 Sep 2017   \n",
       "1997        1997  12 Sep 2017   \n",
       "1998        1998  12 Sep 2017   \n",
       "1999        1999  12 Sep 2017   \n",
       "\n",
       "                                                 Review   UserName  \n",
       "1995  Funny how Android guys react to this phone and...  Anonymous  \n",
       "1996  This is the most ugly phone i have ever seen. ...  Daniel M.  \n",
       "1997  No Headphone jack. PPI < 500. For a flagship W...  Anonymous  \n",
       "1998                          no fingerprint sensor :))       alex  \n",
       "1999  Will Samsung be making that screen? :)\\r\\n \\r\\...    Michael  "
      ]
     },
     "execution_count": 10,
     "metadata": {},
     "output_type": "execute_result"
    }
   ],
   "source": [
    "df.tail()"
   ]
  },
  {
   "cell_type": "code",
   "execution_count": 12,
   "id": "e198f307",
   "metadata": {},
   "outputs": [
    {
     "data": {
      "text/plain": [
       "(2000, 4)"
      ]
     },
     "execution_count": 12,
     "metadata": {},
     "output_type": "execute_result"
    }
   ],
   "source": [
    "df.shape"
   ]
  },
  {
   "cell_type": "code",
   "execution_count": 11,
   "id": "90fabe97",
   "metadata": {},
   "outputs": [
    {
     "name": "stdout",
     "output_type": "stream",
     "text": [
      "<class 'pandas.core.frame.DataFrame'>\n",
      "RangeIndex: 2000 entries, 0 to 1999\n",
      "Data columns (total 4 columns):\n",
      " #   Column      Non-Null Count  Dtype \n",
      "---  ------      --------------  ----- \n",
      " 0   Unnamed: 0  2000 non-null   int64 \n",
      " 1   Date        2000 non-null   object\n",
      " 2   Review      2000 non-null   object\n",
      " 3   UserName    2000 non-null   object\n",
      "dtypes: int64(1), object(3)\n",
      "memory usage: 62.6+ KB\n"
     ]
    }
   ],
   "source": [
    "df.info()"
   ]
  },
  {
   "cell_type": "code",
   "execution_count": null,
   "id": "c14384d6",
   "metadata": {},
   "outputs": [],
   "source": [
    "#making copy of the original dataframe"
   ]
  },
  {
   "cell_type": "code",
   "execution_count": 19,
   "id": "61a4fe2b",
   "metadata": {},
   "outputs": [
    {
     "data": {
      "text/html": [
       "<div>\n",
       "<style scoped>\n",
       "    .dataframe tbody tr th:only-of-type {\n",
       "        vertical-align: middle;\n",
       "    }\n",
       "\n",
       "    .dataframe tbody tr th {\n",
       "        vertical-align: top;\n",
       "    }\n",
       "\n",
       "    .dataframe thead th {\n",
       "        text-align: right;\n",
       "    }\n",
       "</style>\n",
       "<table border=\"1\" class=\"dataframe\">\n",
       "  <thead>\n",
       "    <tr style=\"text-align: right;\">\n",
       "      <th></th>\n",
       "      <th>Review</th>\n",
       "      <th>UserName</th>\n",
       "    </tr>\n",
       "  </thead>\n",
       "  <tbody>\n",
       "    <tr>\n",
       "      <th>0</th>\n",
       "      <td>mir, 16 Jan 2018My Huawei Mate 10 Pro is alrea...</td>\n",
       "      <td>Mr No</td>\n",
       "    </tr>\n",
       "    <tr>\n",
       "      <th>1</th>\n",
       "      <td>This month it fell from 1149Â? to 999Â? in Ger...</td>\n",
       "      <td>Anonymous</td>\n",
       "    </tr>\n",
       "    <tr>\n",
       "      <th>2</th>\n",
       "      <td>chopp, 16 Jan 2018hey guys iam confused betwee...</td>\n",
       "      <td>Anonymous</td>\n",
       "    </tr>\n",
       "    <tr>\n",
       "      <th>3</th>\n",
       "      <td>chopp, 16 Jan 2018hey guys iam confused betwee...</td>\n",
       "      <td>Tony</td>\n",
       "    </tr>\n",
       "    <tr>\n",
       "      <th>4</th>\n",
       "      <td>hey guys iam confused between buying iphone x ...</td>\n",
       "      <td>Anonymous</td>\n",
       "    </tr>\n",
       "  </tbody>\n",
       "</table>\n",
       "</div>"
      ],
      "text/plain": [
       "                                              Review   UserName\n",
       "0  mir, 16 Jan 2018My Huawei Mate 10 Pro is alrea...      Mr No\n",
       "1  This month it fell from 1149Â? to 999Â? in Ger...  Anonymous\n",
       "2  chopp, 16 Jan 2018hey guys iam confused betwee...  Anonymous\n",
       "3  chopp, 16 Jan 2018hey guys iam confused betwee...       Tony\n",
       "4  hey guys iam confused between buying iphone x ...  Anonymous"
      ]
     },
     "execution_count": 19,
     "metadata": {},
     "output_type": "execute_result"
    }
   ],
   "source": [
    "df1=df.iloc[:,2:]\n",
    "df1.head()"
   ]
  },
  {
   "cell_type": "code",
   "execution_count": 20,
   "id": "12035e4b",
   "metadata": {},
   "outputs": [],
   "source": [
    "#1.Lowercase and replace"
   ]
  },
  {
   "cell_type": "code",
   "execution_count": 21,
   "id": "0ecaf3f3",
   "metadata": {},
   "outputs": [],
   "source": [
    "df1['Review_new']=df1['Review'].str.lower().str.replace('[^a-z\\s]','')"
   ]
  },
  {
   "cell_type": "code",
   "execution_count": 22,
   "id": "eb6187ba",
   "metadata": {},
   "outputs": [
    {
     "data": {
      "text/html": [
       "<div>\n",
       "<style scoped>\n",
       "    .dataframe tbody tr th:only-of-type {\n",
       "        vertical-align: middle;\n",
       "    }\n",
       "\n",
       "    .dataframe tbody tr th {\n",
       "        vertical-align: top;\n",
       "    }\n",
       "\n",
       "    .dataframe thead th {\n",
       "        text-align: right;\n",
       "    }\n",
       "</style>\n",
       "<table border=\"1\" class=\"dataframe\">\n",
       "  <thead>\n",
       "    <tr style=\"text-align: right;\">\n",
       "      <th></th>\n",
       "      <th>Review</th>\n",
       "      <th>UserName</th>\n",
       "      <th>Review_new</th>\n",
       "    </tr>\n",
       "  </thead>\n",
       "  <tbody>\n",
       "    <tr>\n",
       "      <th>0</th>\n",
       "      <td>mir, 16 Jan 2018My Huawei Mate 10 Pro is alrea...</td>\n",
       "      <td>Mr No</td>\n",
       "      <td>mir  jan my huawei mate  pro is already two we...</td>\n",
       "    </tr>\n",
       "    <tr>\n",
       "      <th>1</th>\n",
       "      <td>This month it fell from 1149Â? to 999Â? in Ger...</td>\n",
       "      <td>Anonymous</td>\n",
       "      <td>this month it fell from  to  in germany via re...</td>\n",
       "    </tr>\n",
       "    <tr>\n",
       "      <th>2</th>\n",
       "      <td>chopp, 16 Jan 2018hey guys iam confused betwee...</td>\n",
       "      <td>Anonymous</td>\n",
       "      <td>chopp  jan hey guys iam confused between buyin...</td>\n",
       "    </tr>\n",
       "    <tr>\n",
       "      <th>3</th>\n",
       "      <td>chopp, 16 Jan 2018hey guys iam confused betwee...</td>\n",
       "      <td>Tony</td>\n",
       "      <td>chopp  jan hey guys iam confused between buyin...</td>\n",
       "    </tr>\n",
       "    <tr>\n",
       "      <th>4</th>\n",
       "      <td>hey guys iam confused between buying iphone x ...</td>\n",
       "      <td>Anonymous</td>\n",
       "      <td>hey guys iam confused between buying iphone x ...</td>\n",
       "    </tr>\n",
       "  </tbody>\n",
       "</table>\n",
       "</div>"
      ],
      "text/plain": [
       "                                              Review   UserName  \\\n",
       "0  mir, 16 Jan 2018My Huawei Mate 10 Pro is alrea...      Mr No   \n",
       "1  This month it fell from 1149Â? to 999Â? in Ger...  Anonymous   \n",
       "2  chopp, 16 Jan 2018hey guys iam confused betwee...  Anonymous   \n",
       "3  chopp, 16 Jan 2018hey guys iam confused betwee...       Tony   \n",
       "4  hey guys iam confused between buying iphone x ...  Anonymous   \n",
       "\n",
       "                                          Review_new  \n",
       "0  mir  jan my huawei mate  pro is already two we...  \n",
       "1  this month it fell from  to  in germany via re...  \n",
       "2  chopp  jan hey guys iam confused between buyin...  \n",
       "3  chopp  jan hey guys iam confused between buyin...  \n",
       "4  hey guys iam confused between buying iphone x ...  "
      ]
     },
     "execution_count": 22,
     "metadata": {},
     "output_type": "execute_result"
    }
   ],
   "source": [
    "df1.head()"
   ]
  },
  {
   "cell_type": "code",
   "execution_count": 24,
   "id": "58b80f64",
   "metadata": {},
   "outputs": [],
   "source": [
    "#2.Tokenize"
   ]
  },
  {
   "cell_type": "code",
   "execution_count": 23,
   "id": "da6f2d3e",
   "metadata": {},
   "outputs": [],
   "source": [
    "df1['Review_new']=df1['Review_new'].str.split(' ')"
   ]
  },
  {
   "cell_type": "code",
   "execution_count": 25,
   "id": "8f0d405d",
   "metadata": {},
   "outputs": [
    {
     "data": {
      "text/html": [
       "<div>\n",
       "<style scoped>\n",
       "    .dataframe tbody tr th:only-of-type {\n",
       "        vertical-align: middle;\n",
       "    }\n",
       "\n",
       "    .dataframe tbody tr th {\n",
       "        vertical-align: top;\n",
       "    }\n",
       "\n",
       "    .dataframe thead th {\n",
       "        text-align: right;\n",
       "    }\n",
       "</style>\n",
       "<table border=\"1\" class=\"dataframe\">\n",
       "  <thead>\n",
       "    <tr style=\"text-align: right;\">\n",
       "      <th></th>\n",
       "      <th>Review</th>\n",
       "      <th>UserName</th>\n",
       "      <th>Review_new</th>\n",
       "    </tr>\n",
       "  </thead>\n",
       "  <tbody>\n",
       "    <tr>\n",
       "      <th>0</th>\n",
       "      <td>mir, 16 Jan 2018My Huawei Mate 10 Pro is alrea...</td>\n",
       "      <td>Mr No</td>\n",
       "      <td>[mir, , jan, my, huawei, mate, , pro, is, alre...</td>\n",
       "    </tr>\n",
       "    <tr>\n",
       "      <th>1</th>\n",
       "      <td>This month it fell from 1149Â? to 999Â? in Ger...</td>\n",
       "      <td>Anonymous</td>\n",
       "      <td>[this, month, it, fell, from, , to, , in, germ...</td>\n",
       "    </tr>\n",
       "    <tr>\n",
       "      <th>2</th>\n",
       "      <td>chopp, 16 Jan 2018hey guys iam confused betwee...</td>\n",
       "      <td>Anonymous</td>\n",
       "      <td>[chopp, , jan, hey, guys, iam, confused, betwe...</td>\n",
       "    </tr>\n",
       "    <tr>\n",
       "      <th>3</th>\n",
       "      <td>chopp, 16 Jan 2018hey guys iam confused betwee...</td>\n",
       "      <td>Tony</td>\n",
       "      <td>[chopp, , jan, hey, guys, iam, confused, betwe...</td>\n",
       "    </tr>\n",
       "    <tr>\n",
       "      <th>4</th>\n",
       "      <td>hey guys iam confused between buying iphone x ...</td>\n",
       "      <td>Anonymous</td>\n",
       "      <td>[hey, guys, iam, confused, between, buying, ip...</td>\n",
       "    </tr>\n",
       "  </tbody>\n",
       "</table>\n",
       "</div>"
      ],
      "text/plain": [
       "                                              Review   UserName  \\\n",
       "0  mir, 16 Jan 2018My Huawei Mate 10 Pro is alrea...      Mr No   \n",
       "1  This month it fell from 1149Â? to 999Â? in Ger...  Anonymous   \n",
       "2  chopp, 16 Jan 2018hey guys iam confused betwee...  Anonymous   \n",
       "3  chopp, 16 Jan 2018hey guys iam confused betwee...       Tony   \n",
       "4  hey guys iam confused between buying iphone x ...  Anonymous   \n",
       "\n",
       "                                          Review_new  \n",
       "0  [mir, , jan, my, huawei, mate, , pro, is, alre...  \n",
       "1  [this, month, it, fell, from, , to, , in, germ...  \n",
       "2  [chopp, , jan, hey, guys, iam, confused, betwe...  \n",
       "3  [chopp, , jan, hey, guys, iam, confused, betwe...  \n",
       "4  [hey, guys, iam, confused, between, buying, ip...  "
      ]
     },
     "execution_count": 25,
     "metadata": {},
     "output_type": "execute_result"
    }
   ],
   "source": [
    "df1.head()"
   ]
  },
  {
   "cell_type": "code",
   "execution_count": null,
   "id": "198e2b7a",
   "metadata": {},
   "outputs": [],
   "source": [
    "#3.Remove stopwords"
   ]
  },
  {
   "cell_type": "code",
   "execution_count": 26,
   "id": "fa6f182e",
   "metadata": {},
   "outputs": [],
   "source": [
    "import nltk\n",
    "common_stopwords=nltk.corpus.stopwords.words('english')"
   ]
  },
  {
   "cell_type": "code",
   "execution_count": 28,
   "id": "b882c21c",
   "metadata": {},
   "outputs": [
    {
     "name": "stdout",
     "output_type": "stream",
     "text": [
      "['i', 'me', 'my', 'myself', 'we', 'our', 'ours', 'ourselves', 'you', \"you're\", \"you've\", \"you'll\", \"you'd\", 'your', 'yours', 'yourself', 'yourselves', 'he', 'him', 'his', 'himself', 'she', \"she's\", 'her', 'hers', 'herself', 'it', \"it's\", 'its', 'itself', 'they', 'them', 'their', 'theirs', 'themselves', 'what', 'which', 'who', 'whom', 'this', 'that', \"that'll\", 'these', 'those', 'am', 'is', 'are', 'was', 'were', 'be', 'been', 'being', 'have', 'has', 'had', 'having', 'do', 'does', 'did', 'doing', 'a', 'an', 'the', 'and', 'but', 'if', 'or', 'because', 'as', 'until', 'while', 'of', 'at', 'by', 'for', 'with', 'about', 'against', 'between', 'into', 'through', 'during', 'before', 'after', 'above', 'below', 'to', 'from', 'up', 'down', 'in', 'out', 'on', 'off', 'over', 'under', 'again', 'further', 'then', 'once', 'here', 'there', 'when', 'where', 'why', 'how', 'all', 'any', 'both', 'each', 'few', 'more', 'most', 'other', 'some', 'such', 'no', 'nor', 'not', 'only', 'own', 'same', 'so', 'than', 'too', 'very', 's', 't', 'can', 'will', 'just', 'don', \"don't\", 'should', \"should've\", 'now', 'd', 'll', 'm', 'o', 're', 've', 'y', 'ain', 'aren', \"aren't\", 'couldn', \"couldn't\", 'didn', \"didn't\", 'doesn', \"doesn't\", 'hadn', \"hadn't\", 'hasn', \"hasn't\", 'haven', \"haven't\", 'isn', \"isn't\", 'ma', 'mightn', \"mightn't\", 'mustn', \"mustn't\", 'needn', \"needn't\", 'shan', \"shan't\", 'shouldn', \"shouldn't\", 'wasn', \"wasn't\", 'weren', \"weren't\", 'won', \"won't\", 'wouldn', \"wouldn't\"]\n"
     ]
    }
   ],
   "source": [
    "print(common_stopwords)"
   ]
  },
  {
   "cell_type": "code",
   "execution_count": 29,
   "id": "d2428fee",
   "metadata": {},
   "outputs": [],
   "source": [
    "common_stopwords.remove('didn')\n",
    "common_stopwords.remove('no')\n",
    "common_stopwords.remove('nor')\n",
    "common_stopwords.remove('not')"
   ]
  },
  {
   "cell_type": "code",
   "execution_count": 30,
   "id": "ed056387",
   "metadata": {},
   "outputs": [],
   "source": [
    "def drop_stopwords(text):\n",
    "    return[word for word in text if word not in common_stopwords]"
   ]
  },
  {
   "cell_type": "code",
   "execution_count": 31,
   "id": "9f5b7d67",
   "metadata": {},
   "outputs": [],
   "source": [
    "df1['Review_new']=df1['Review_new'].apply(drop_stopwords)"
   ]
  },
  {
   "cell_type": "code",
   "execution_count": 32,
   "id": "964a39bb",
   "metadata": {},
   "outputs": [
    {
     "data": {
      "text/html": [
       "<div>\n",
       "<style scoped>\n",
       "    .dataframe tbody tr th:only-of-type {\n",
       "        vertical-align: middle;\n",
       "    }\n",
       "\n",
       "    .dataframe tbody tr th {\n",
       "        vertical-align: top;\n",
       "    }\n",
       "\n",
       "    .dataframe thead th {\n",
       "        text-align: right;\n",
       "    }\n",
       "</style>\n",
       "<table border=\"1\" class=\"dataframe\">\n",
       "  <thead>\n",
       "    <tr style=\"text-align: right;\">\n",
       "      <th></th>\n",
       "      <th>Review</th>\n",
       "      <th>UserName</th>\n",
       "      <th>Review_new</th>\n",
       "    </tr>\n",
       "  </thead>\n",
       "  <tbody>\n",
       "    <tr>\n",
       "      <th>0</th>\n",
       "      <td>mir, 16 Jan 2018My Huawei Mate 10 Pro is alrea...</td>\n",
       "      <td>Mr No</td>\n",
       "      <td>[mir, , jan, huawei, mate, , pro, already, two...</td>\n",
       "    </tr>\n",
       "    <tr>\n",
       "      <th>1</th>\n",
       "      <td>This month it fell from 1149Â? to 999Â? in Ger...</td>\n",
       "      <td>Anonymous</td>\n",
       "      <td>[month, fell, , , germany, via, resellers, hop...</td>\n",
       "    </tr>\n",
       "    <tr>\n",
       "      <th>2</th>\n",
       "      <td>chopp, 16 Jan 2018hey guys iam confused betwee...</td>\n",
       "      <td>Anonymous</td>\n",
       "      <td>[chopp, , jan, hey, guys, iam, confused, buyin...</td>\n",
       "    </tr>\n",
       "    <tr>\n",
       "      <th>3</th>\n",
       "      <td>chopp, 16 Jan 2018hey guys iam confused betwee...</td>\n",
       "      <td>Tony</td>\n",
       "      <td>[chopp, , jan, hey, guys, iam, confused, buyin...</td>\n",
       "    </tr>\n",
       "    <tr>\n",
       "      <th>4</th>\n",
       "      <td>hey guys iam confused between buying iphone x ...</td>\n",
       "      <td>Anonymous</td>\n",
       "      <td>[hey, guys, iam, confused, buying, iphone, x, ...</td>\n",
       "    </tr>\n",
       "  </tbody>\n",
       "</table>\n",
       "</div>"
      ],
      "text/plain": [
       "                                              Review   UserName  \\\n",
       "0  mir, 16 Jan 2018My Huawei Mate 10 Pro is alrea...      Mr No   \n",
       "1  This month it fell from 1149Â? to 999Â? in Ger...  Anonymous   \n",
       "2  chopp, 16 Jan 2018hey guys iam confused betwee...  Anonymous   \n",
       "3  chopp, 16 Jan 2018hey guys iam confused betwee...       Tony   \n",
       "4  hey guys iam confused between buying iphone x ...  Anonymous   \n",
       "\n",
       "                                          Review_new  \n",
       "0  [mir, , jan, huawei, mate, , pro, already, two...  \n",
       "1  [month, fell, , , germany, via, resellers, hop...  \n",
       "2  [chopp, , jan, hey, guys, iam, confused, buyin...  \n",
       "3  [chopp, , jan, hey, guys, iam, confused, buyin...  \n",
       "4  [hey, guys, iam, confused, buying, iphone, x, ...  "
      ]
     },
     "execution_count": 32,
     "metadata": {},
     "output_type": "execute_result"
    }
   ],
   "source": [
    "df1.head()"
   ]
  },
  {
   "cell_type": "code",
   "execution_count": null,
   "id": "7f9b9a82",
   "metadata": {},
   "outputs": [],
   "source": [
    "#4.Lemmetization"
   ]
  },
  {
   "cell_type": "code",
   "execution_count": 34,
   "id": "13df0460",
   "metadata": {},
   "outputs": [],
   "source": [
    "from nltk.stem.wordnet import WordNetLemmatizer\n",
    "Lemmatizer=WordNetLemmatizer()"
   ]
  },
  {
   "cell_type": "code",
   "execution_count": 35,
   "id": "4d2c6b76",
   "metadata": {},
   "outputs": [],
   "source": [
    "def Lemmetization(text):\n",
    "    return[Lemmatizer.lemmatize(word) for word in text]"
   ]
  },
  {
   "cell_type": "code",
   "execution_count": 36,
   "id": "0397c11c",
   "metadata": {},
   "outputs": [],
   "source": [
    "df1['Review_new']=df1['Review_new'].apply(Lemmetization)"
   ]
  },
  {
   "cell_type": "code",
   "execution_count": 37,
   "id": "6a327b34",
   "metadata": {},
   "outputs": [
    {
     "data": {
      "text/html": [
       "<div>\n",
       "<style scoped>\n",
       "    .dataframe tbody tr th:only-of-type {\n",
       "        vertical-align: middle;\n",
       "    }\n",
       "\n",
       "    .dataframe tbody tr th {\n",
       "        vertical-align: top;\n",
       "    }\n",
       "\n",
       "    .dataframe thead th {\n",
       "        text-align: right;\n",
       "    }\n",
       "</style>\n",
       "<table border=\"1\" class=\"dataframe\">\n",
       "  <thead>\n",
       "    <tr style=\"text-align: right;\">\n",
       "      <th></th>\n",
       "      <th>Review</th>\n",
       "      <th>UserName</th>\n",
       "      <th>Review_new</th>\n",
       "    </tr>\n",
       "  </thead>\n",
       "  <tbody>\n",
       "    <tr>\n",
       "      <th>0</th>\n",
       "      <td>mir, 16 Jan 2018My Huawei Mate 10 Pro is alrea...</td>\n",
       "      <td>Mr No</td>\n",
       "      <td>[mir, , jan, huawei, mate, , pro, already, two...</td>\n",
       "    </tr>\n",
       "    <tr>\n",
       "      <th>1</th>\n",
       "      <td>This month it fell from 1149Â? to 999Â? in Ger...</td>\n",
       "      <td>Anonymous</td>\n",
       "      <td>[month, fell, , , germany, via, resellers, hop...</td>\n",
       "    </tr>\n",
       "    <tr>\n",
       "      <th>2</th>\n",
       "      <td>chopp, 16 Jan 2018hey guys iam confused betwee...</td>\n",
       "      <td>Anonymous</td>\n",
       "      <td>[chopp, , jan, hey, guy, iam, confused, buying...</td>\n",
       "    </tr>\n",
       "    <tr>\n",
       "      <th>3</th>\n",
       "      <td>chopp, 16 Jan 2018hey guys iam confused betwee...</td>\n",
       "      <td>Tony</td>\n",
       "      <td>[chopp, , jan, hey, guy, iam, confused, buying...</td>\n",
       "    </tr>\n",
       "    <tr>\n",
       "      <th>4</th>\n",
       "      <td>hey guys iam confused between buying iphone x ...</td>\n",
       "      <td>Anonymous</td>\n",
       "      <td>[hey, guy, iam, confused, buying, iphone, x, h...</td>\n",
       "    </tr>\n",
       "  </tbody>\n",
       "</table>\n",
       "</div>"
      ],
      "text/plain": [
       "                                              Review   UserName  \\\n",
       "0  mir, 16 Jan 2018My Huawei Mate 10 Pro is alrea...      Mr No   \n",
       "1  This month it fell from 1149Â? to 999Â? in Ger...  Anonymous   \n",
       "2  chopp, 16 Jan 2018hey guys iam confused betwee...  Anonymous   \n",
       "3  chopp, 16 Jan 2018hey guys iam confused betwee...       Tony   \n",
       "4  hey guys iam confused between buying iphone x ...  Anonymous   \n",
       "\n",
       "                                          Review_new  \n",
       "0  [mir, , jan, huawei, mate, , pro, already, two...  \n",
       "1  [month, fell, , , germany, via, resellers, hop...  \n",
       "2  [chopp, , jan, hey, guy, iam, confused, buying...  \n",
       "3  [chopp, , jan, hey, guy, iam, confused, buying...  \n",
       "4  [hey, guy, iam, confused, buying, iphone, x, h...  "
      ]
     },
     "execution_count": 37,
     "metadata": {},
     "output_type": "execute_result"
    }
   ],
   "source": [
    "df1.head()"
   ]
  },
  {
   "cell_type": "code",
   "execution_count": null,
   "id": "d27d91fa",
   "metadata": {},
   "outputs": [],
   "source": [
    "# 5 .Cleaning the text"
   ]
  },
  {
   "cell_type": "code",
   "execution_count": 38,
   "id": "18fc7e9b",
   "metadata": {},
   "outputs": [],
   "source": [
    "df1['Review_new']=df1['Review_new'].apply(lambda x: ' '.join(x))"
   ]
  },
  {
   "cell_type": "code",
   "execution_count": 39,
   "id": "7f0abf7c",
   "metadata": {},
   "outputs": [
    {
     "data": {
      "text/html": [
       "<div>\n",
       "<style scoped>\n",
       "    .dataframe tbody tr th:only-of-type {\n",
       "        vertical-align: middle;\n",
       "    }\n",
       "\n",
       "    .dataframe tbody tr th {\n",
       "        vertical-align: top;\n",
       "    }\n",
       "\n",
       "    .dataframe thead th {\n",
       "        text-align: right;\n",
       "    }\n",
       "</style>\n",
       "<table border=\"1\" class=\"dataframe\">\n",
       "  <thead>\n",
       "    <tr style=\"text-align: right;\">\n",
       "      <th></th>\n",
       "      <th>Review</th>\n",
       "      <th>UserName</th>\n",
       "      <th>Review_new</th>\n",
       "    </tr>\n",
       "  </thead>\n",
       "  <tbody>\n",
       "    <tr>\n",
       "      <th>0</th>\n",
       "      <td>mir, 16 Jan 2018My Huawei Mate 10 Pro is alrea...</td>\n",
       "      <td>Mr No</td>\n",
       "      <td>mir  jan huawei mate  pro already two week old...</td>\n",
       "    </tr>\n",
       "    <tr>\n",
       "      <th>1</th>\n",
       "      <td>This month it fell from 1149Â? to 999Â? in Ger...</td>\n",
       "      <td>Anonymous</td>\n",
       "      <td>month fell   germany via resellers hoping cont...</td>\n",
       "    </tr>\n",
       "    <tr>\n",
       "      <th>2</th>\n",
       "      <td>chopp, 16 Jan 2018hey guys iam confused betwee...</td>\n",
       "      <td>Anonymous</td>\n",
       "      <td>chopp  jan hey guy iam confused buying iphone ...</td>\n",
       "    </tr>\n",
       "    <tr>\n",
       "      <th>3</th>\n",
       "      <td>chopp, 16 Jan 2018hey guys iam confused betwee...</td>\n",
       "      <td>Tony</td>\n",
       "      <td>chopp  jan hey guy iam confused buying iphone ...</td>\n",
       "    </tr>\n",
       "    <tr>\n",
       "      <th>4</th>\n",
       "      <td>hey guys iam confused between buying iphone x ...</td>\n",
       "      <td>Anonymous</td>\n",
       "      <td>hey guy iam confused buying iphone x huawei  p...</td>\n",
       "    </tr>\n",
       "  </tbody>\n",
       "</table>\n",
       "</div>"
      ],
      "text/plain": [
       "                                              Review   UserName  \\\n",
       "0  mir, 16 Jan 2018My Huawei Mate 10 Pro is alrea...      Mr No   \n",
       "1  This month it fell from 1149Â? to 999Â? in Ger...  Anonymous   \n",
       "2  chopp, 16 Jan 2018hey guys iam confused betwee...  Anonymous   \n",
       "3  chopp, 16 Jan 2018hey guys iam confused betwee...       Tony   \n",
       "4  hey guys iam confused between buying iphone x ...  Anonymous   \n",
       "\n",
       "                                          Review_new  \n",
       "0  mir  jan huawei mate  pro already two week old...  \n",
       "1  month fell   germany via resellers hoping cont...  \n",
       "2  chopp  jan hey guy iam confused buying iphone ...  \n",
       "3  chopp  jan hey guy iam confused buying iphone ...  \n",
       "4  hey guy iam confused buying iphone x huawei  p...  "
      ]
     },
     "execution_count": 39,
     "metadata": {},
     "output_type": "execute_result"
    }
   ],
   "source": [
    "df1.head()"
   ]
  },
  {
   "cell_type": "code",
   "execution_count": null,
   "id": "61c1904e",
   "metadata": {},
   "outputs": [],
   "source": [
    "#Sentiment analysis"
   ]
  },
  {
   "cell_type": "code",
   "execution_count": null,
   "id": "eb469422",
   "metadata": {},
   "outputs": [],
   "source": [
    "#1. Sentiment analysis using TextBlob"
   ]
  },
  {
   "cell_type": "code",
   "execution_count": 40,
   "id": "d2f2383c",
   "metadata": {},
   "outputs": [],
   "source": [
    "from textblob import TextBlob"
   ]
  },
  {
   "cell_type": "code",
   "execution_count": 41,
   "id": "68e9e910",
   "metadata": {},
   "outputs": [],
   "source": [
    "df1[\"Sentiment_score_Review_new\"]=[round(TextBlob(article).sentiment.polarity, 3) for article in df1['Review_new']]"
   ]
  },
  {
   "cell_type": "code",
   "execution_count": 42,
   "id": "55833964",
   "metadata": {},
   "outputs": [
    {
     "data": {
      "text/html": [
       "<div>\n",
       "<style scoped>\n",
       "    .dataframe tbody tr th:only-of-type {\n",
       "        vertical-align: middle;\n",
       "    }\n",
       "\n",
       "    .dataframe tbody tr th {\n",
       "        vertical-align: top;\n",
       "    }\n",
       "\n",
       "    .dataframe thead th {\n",
       "        text-align: right;\n",
       "    }\n",
       "</style>\n",
       "<table border=\"1\" class=\"dataframe\">\n",
       "  <thead>\n",
       "    <tr style=\"text-align: right;\">\n",
       "      <th></th>\n",
       "      <th>Review</th>\n",
       "      <th>UserName</th>\n",
       "      <th>Review_new</th>\n",
       "      <th>Sentiment_score_Review_new</th>\n",
       "    </tr>\n",
       "  </thead>\n",
       "  <tbody>\n",
       "    <tr>\n",
       "      <th>0</th>\n",
       "      <td>mir, 16 Jan 2018My Huawei Mate 10 Pro is alrea...</td>\n",
       "      <td>Mr No</td>\n",
       "      <td>mir  jan huawei mate  pro already two week old...</td>\n",
       "      <td>0.217</td>\n",
       "    </tr>\n",
       "    <tr>\n",
       "      <th>1</th>\n",
       "      <td>This month it fell from 1149Â? to 999Â? in Ger...</td>\n",
       "      <td>Anonymous</td>\n",
       "      <td>month fell   germany via resellers hoping cont...</td>\n",
       "      <td>0.000</td>\n",
       "    </tr>\n",
       "    <tr>\n",
       "      <th>2</th>\n",
       "      <td>chopp, 16 Jan 2018hey guys iam confused betwee...</td>\n",
       "      <td>Anonymous</td>\n",
       "      <td>chopp  jan hey guy iam confused buying iphone ...</td>\n",
       "      <td>-0.400</td>\n",
       "    </tr>\n",
       "    <tr>\n",
       "      <th>3</th>\n",
       "      <td>chopp, 16 Jan 2018hey guys iam confused betwee...</td>\n",
       "      <td>Tony</td>\n",
       "      <td>chopp  jan hey guy iam confused buying iphone ...</td>\n",
       "      <td>-0.400</td>\n",
       "    </tr>\n",
       "    <tr>\n",
       "      <th>4</th>\n",
       "      <td>hey guys iam confused between buying iphone x ...</td>\n",
       "      <td>Anonymous</td>\n",
       "      <td>hey guy iam confused buying iphone x huawei  p...</td>\n",
       "      <td>-0.400</td>\n",
       "    </tr>\n",
       "  </tbody>\n",
       "</table>\n",
       "</div>"
      ],
      "text/plain": [
       "                                              Review   UserName  \\\n",
       "0  mir, 16 Jan 2018My Huawei Mate 10 Pro is alrea...      Mr No   \n",
       "1  This month it fell from 1149Â? to 999Â? in Ger...  Anonymous   \n",
       "2  chopp, 16 Jan 2018hey guys iam confused betwee...  Anonymous   \n",
       "3  chopp, 16 Jan 2018hey guys iam confused betwee...       Tony   \n",
       "4  hey guys iam confused between buying iphone x ...  Anonymous   \n",
       "\n",
       "                                          Review_new  \\\n",
       "0  mir  jan huawei mate  pro already two week old...   \n",
       "1  month fell   germany via resellers hoping cont...   \n",
       "2  chopp  jan hey guy iam confused buying iphone ...   \n",
       "3  chopp  jan hey guy iam confused buying iphone ...   \n",
       "4  hey guy iam confused buying iphone x huawei  p...   \n",
       "\n",
       "   Sentiment_score_Review_new  \n",
       "0                       0.217  \n",
       "1                       0.000  \n",
       "2                      -0.400  \n",
       "3                      -0.400  \n",
       "4                      -0.400  "
      ]
     },
     "execution_count": 42,
     "metadata": {},
     "output_type": "execute_result"
    }
   ],
   "source": [
    "df1.head()"
   ]
  },
  {
   "cell_type": "code",
   "execution_count": null,
   "id": "fa74f46f",
   "metadata": {},
   "outputs": [],
   "source": [
    "#applying the labels"
   ]
  },
  {
   "cell_type": "code",
   "execution_count": 43,
   "id": "65d80653",
   "metadata": {},
   "outputs": [],
   "source": [
    "#crating fucntion for the labels\n",
    "def get_sentiment_label(score):\n",
    "    if score > 0.3:\n",
    "        return 'positive'\n",
    "    elif score < -0.3:\n",
    "        return 'negative'\n",
    "    else:\n",
    "        return 'neutral'"
   ]
  },
  {
   "cell_type": "code",
   "execution_count": 44,
   "id": "04c4b568",
   "metadata": {},
   "outputs": [
    {
     "data": {
      "text/html": [
       "<div>\n",
       "<style scoped>\n",
       "    .dataframe tbody tr th:only-of-type {\n",
       "        vertical-align: middle;\n",
       "    }\n",
       "\n",
       "    .dataframe tbody tr th {\n",
       "        vertical-align: top;\n",
       "    }\n",
       "\n",
       "    .dataframe thead th {\n",
       "        text-align: right;\n",
       "    }\n",
       "</style>\n",
       "<table border=\"1\" class=\"dataframe\">\n",
       "  <thead>\n",
       "    <tr style=\"text-align: right;\">\n",
       "      <th></th>\n",
       "      <th>Review</th>\n",
       "      <th>UserName</th>\n",
       "      <th>Review_new</th>\n",
       "      <th>Sentiment_score_Review_new</th>\n",
       "      <th>Sentiment_TextBlob_label</th>\n",
       "    </tr>\n",
       "  </thead>\n",
       "  <tbody>\n",
       "    <tr>\n",
       "      <th>0</th>\n",
       "      <td>mir, 16 Jan 2018My Huawei Mate 10 Pro is alrea...</td>\n",
       "      <td>Mr No</td>\n",
       "      <td>mir  jan huawei mate  pro already two week old...</td>\n",
       "      <td>0.217</td>\n",
       "      <td>neutral</td>\n",
       "    </tr>\n",
       "    <tr>\n",
       "      <th>1</th>\n",
       "      <td>This month it fell from 1149Â? to 999Â? in Ger...</td>\n",
       "      <td>Anonymous</td>\n",
       "      <td>month fell   germany via resellers hoping cont...</td>\n",
       "      <td>0.000</td>\n",
       "      <td>neutral</td>\n",
       "    </tr>\n",
       "    <tr>\n",
       "      <th>2</th>\n",
       "      <td>chopp, 16 Jan 2018hey guys iam confused betwee...</td>\n",
       "      <td>Anonymous</td>\n",
       "      <td>chopp  jan hey guy iam confused buying iphone ...</td>\n",
       "      <td>-0.400</td>\n",
       "      <td>negative</td>\n",
       "    </tr>\n",
       "    <tr>\n",
       "      <th>3</th>\n",
       "      <td>chopp, 16 Jan 2018hey guys iam confused betwee...</td>\n",
       "      <td>Tony</td>\n",
       "      <td>chopp  jan hey guy iam confused buying iphone ...</td>\n",
       "      <td>-0.400</td>\n",
       "      <td>negative</td>\n",
       "    </tr>\n",
       "    <tr>\n",
       "      <th>4</th>\n",
       "      <td>hey guys iam confused between buying iphone x ...</td>\n",
       "      <td>Anonymous</td>\n",
       "      <td>hey guy iam confused buying iphone x huawei  p...</td>\n",
       "      <td>-0.400</td>\n",
       "      <td>negative</td>\n",
       "    </tr>\n",
       "  </tbody>\n",
       "</table>\n",
       "</div>"
      ],
      "text/plain": [
       "                                              Review   UserName  \\\n",
       "0  mir, 16 Jan 2018My Huawei Mate 10 Pro is alrea...      Mr No   \n",
       "1  This month it fell from 1149Â? to 999Â? in Ger...  Anonymous   \n",
       "2  chopp, 16 Jan 2018hey guys iam confused betwee...  Anonymous   \n",
       "3  chopp, 16 Jan 2018hey guys iam confused betwee...       Tony   \n",
       "4  hey guys iam confused between buying iphone x ...  Anonymous   \n",
       "\n",
       "                                          Review_new  \\\n",
       "0  mir  jan huawei mate  pro already two week old...   \n",
       "1  month fell   germany via resellers hoping cont...   \n",
       "2  chopp  jan hey guy iam confused buying iphone ...   \n",
       "3  chopp  jan hey guy iam confused buying iphone ...   \n",
       "4  hey guy iam confused buying iphone x huawei  p...   \n",
       "\n",
       "   Sentiment_score_Review_new Sentiment_TextBlob_label  \n",
       "0                       0.217                  neutral  \n",
       "1                       0.000                  neutral  \n",
       "2                      -0.400                 negative  \n",
       "3                      -0.400                 negative  \n",
       "4                      -0.400                 negative  "
      ]
     },
     "execution_count": 44,
     "metadata": {},
     "output_type": "execute_result"
    }
   ],
   "source": [
    "df1['Sentiment_TextBlob_label'] = df1['Sentiment_score_Review_new'].apply(get_sentiment_label)\n",
    "df1.head()"
   ]
  },
  {
   "cell_type": "code",
   "execution_count": 45,
   "id": "5760124f",
   "metadata": {},
   "outputs": [
    {
     "name": "stdout",
     "output_type": "stream",
     "text": [
      "review Text Sentiment analysis using TextBlob:\n",
      "\n"
     ]
    },
    {
     "data": {
      "text/plain": [
       "neutral     1446\n",
       "positive     425\n",
       "negative     129\n",
       "Name: Sentiment_TextBlob_label, dtype: int64"
      ]
     },
     "execution_count": 45,
     "metadata": {},
     "output_type": "execute_result"
    }
   ],
   "source": [
    "print('review Text Sentiment analysis using TextBlob:')\n",
    "print()\n",
    "df1['Sentiment_TextBlob_label'].value_counts()"
   ]
  },
  {
   "cell_type": "code",
   "execution_count": null,
   "id": "3a57c973",
   "metadata": {},
   "outputs": [],
   "source": [
    "#2. Sentiment Analysis using VADER (Rule Based Algorithm)"
   ]
  },
  {
   "cell_type": "code",
   "execution_count": 46,
   "id": "1ba5b9e4",
   "metadata": {},
   "outputs": [],
   "source": [
    "from nltk.sentiment.vader import SentimentIntensityAnalyzer"
   ]
  },
  {
   "cell_type": "code",
   "execution_count": 47,
   "id": "be3768d0",
   "metadata": {},
   "outputs": [],
   "source": [
    "analyzer = SentimentIntensityAnalyzer()"
   ]
  },
  {
   "cell_type": "code",
   "execution_count": 48,
   "id": "874d52b8",
   "metadata": {},
   "outputs": [
    {
     "data": {
      "text/html": [
       "<div>\n",
       "<style scoped>\n",
       "    .dataframe tbody tr th:only-of-type {\n",
       "        vertical-align: middle;\n",
       "    }\n",
       "\n",
       "    .dataframe tbody tr th {\n",
       "        vertical-align: top;\n",
       "    }\n",
       "\n",
       "    .dataframe thead th {\n",
       "        text-align: right;\n",
       "    }\n",
       "</style>\n",
       "<table border=\"1\" class=\"dataframe\">\n",
       "  <thead>\n",
       "    <tr style=\"text-align: right;\">\n",
       "      <th></th>\n",
       "      <th>Review</th>\n",
       "      <th>UserName</th>\n",
       "      <th>Review_new</th>\n",
       "      <th>Sentiment_score_Review_new</th>\n",
       "      <th>Sentiment_TextBlob_label</th>\n",
       "      <th>Sentiment_score_VADER</th>\n",
       "    </tr>\n",
       "  </thead>\n",
       "  <tbody>\n",
       "    <tr>\n",
       "      <th>0</th>\n",
       "      <td>mir, 16 Jan 2018My Huawei Mate 10 Pro is alrea...</td>\n",
       "      <td>Mr No</td>\n",
       "      <td>mir  jan huawei mate  pro already two week old...</td>\n",
       "      <td>0.217</td>\n",
       "      <td>neutral</td>\n",
       "      <td>0.5994</td>\n",
       "    </tr>\n",
       "    <tr>\n",
       "      <th>1</th>\n",
       "      <td>This month it fell from 1149Â? to 999Â? in Ger...</td>\n",
       "      <td>Anonymous</td>\n",
       "      <td>month fell   germany via resellers hoping cont...</td>\n",
       "      <td>0.000</td>\n",
       "      <td>neutral</td>\n",
       "      <td>0.6486</td>\n",
       "    </tr>\n",
       "    <tr>\n",
       "      <th>2</th>\n",
       "      <td>chopp, 16 Jan 2018hey guys iam confused betwee...</td>\n",
       "      <td>Anonymous</td>\n",
       "      <td>chopp  jan hey guy iam confused buying iphone ...</td>\n",
       "      <td>-0.400</td>\n",
       "      <td>negative</td>\n",
       "      <td>0.4019</td>\n",
       "    </tr>\n",
       "    <tr>\n",
       "      <th>3</th>\n",
       "      <td>chopp, 16 Jan 2018hey guys iam confused betwee...</td>\n",
       "      <td>Tony</td>\n",
       "      <td>chopp  jan hey guy iam confused buying iphone ...</td>\n",
       "      <td>-0.400</td>\n",
       "      <td>negative</td>\n",
       "      <td>0.0000</td>\n",
       "    </tr>\n",
       "    <tr>\n",
       "      <th>4</th>\n",
       "      <td>hey guys iam confused between buying iphone x ...</td>\n",
       "      <td>Anonymous</td>\n",
       "      <td>hey guy iam confused buying iphone x huawei  p...</td>\n",
       "      <td>-0.400</td>\n",
       "      <td>negative</td>\n",
       "      <td>0.4019</td>\n",
       "    </tr>\n",
       "  </tbody>\n",
       "</table>\n",
       "</div>"
      ],
      "text/plain": [
       "                                              Review   UserName  \\\n",
       "0  mir, 16 Jan 2018My Huawei Mate 10 Pro is alrea...      Mr No   \n",
       "1  This month it fell from 1149Â? to 999Â? in Ger...  Anonymous   \n",
       "2  chopp, 16 Jan 2018hey guys iam confused betwee...  Anonymous   \n",
       "3  chopp, 16 Jan 2018hey guys iam confused betwee...       Tony   \n",
       "4  hey guys iam confused between buying iphone x ...  Anonymous   \n",
       "\n",
       "                                          Review_new  \\\n",
       "0  mir  jan huawei mate  pro already two week old...   \n",
       "1  month fell   germany via resellers hoping cont...   \n",
       "2  chopp  jan hey guy iam confused buying iphone ...   \n",
       "3  chopp  jan hey guy iam confused buying iphone ...   \n",
       "4  hey guy iam confused buying iphone x huawei  p...   \n",
       "\n",
       "   Sentiment_score_Review_new Sentiment_TextBlob_label  Sentiment_score_VADER  \n",
       "0                       0.217                  neutral                 0.5994  \n",
       "1                       0.000                  neutral                 0.6486  \n",
       "2                      -0.400                 negative                 0.4019  \n",
       "3                      -0.400                 negative                 0.0000  \n",
       "4                      -0.400                 negative                 0.4019  "
      ]
     },
     "execution_count": 48,
     "metadata": {},
     "output_type": "execute_result"
    }
   ],
   "source": [
    "df1[\"Sentiment_score_VADER\"]=df1['Review_new'].apply(lambda v: analyzer.polarity_scores(v)['compound'])\n",
    "df1.head()"
   ]
  },
  {
   "cell_type": "code",
   "execution_count": null,
   "id": "5a13e9f6",
   "metadata": {},
   "outputs": [],
   "source": [
    "#applying the labels"
   ]
  },
  {
   "cell_type": "code",
   "execution_count": 49,
   "id": "f3268f29",
   "metadata": {},
   "outputs": [
    {
     "data": {
      "text/html": [
       "<div>\n",
       "<style scoped>\n",
       "    .dataframe tbody tr th:only-of-type {\n",
       "        vertical-align: middle;\n",
       "    }\n",
       "\n",
       "    .dataframe tbody tr th {\n",
       "        vertical-align: top;\n",
       "    }\n",
       "\n",
       "    .dataframe thead th {\n",
       "        text-align: right;\n",
       "    }\n",
       "</style>\n",
       "<table border=\"1\" class=\"dataframe\">\n",
       "  <thead>\n",
       "    <tr style=\"text-align: right;\">\n",
       "      <th></th>\n",
       "      <th>Review</th>\n",
       "      <th>UserName</th>\n",
       "      <th>Review_new</th>\n",
       "      <th>Sentiment_score_Review_new</th>\n",
       "      <th>Sentiment_TextBlob_label</th>\n",
       "      <th>Sentiment_score_VADER</th>\n",
       "      <th>Sentiment_VADER_label</th>\n",
       "    </tr>\n",
       "  </thead>\n",
       "  <tbody>\n",
       "    <tr>\n",
       "      <th>0</th>\n",
       "      <td>mir, 16 Jan 2018My Huawei Mate 10 Pro is alrea...</td>\n",
       "      <td>Mr No</td>\n",
       "      <td>mir  jan huawei mate  pro already two week old...</td>\n",
       "      <td>0.217</td>\n",
       "      <td>neutral</td>\n",
       "      <td>0.5994</td>\n",
       "      <td>positive</td>\n",
       "    </tr>\n",
       "    <tr>\n",
       "      <th>1</th>\n",
       "      <td>This month it fell from 1149Â? to 999Â? in Ger...</td>\n",
       "      <td>Anonymous</td>\n",
       "      <td>month fell   germany via resellers hoping cont...</td>\n",
       "      <td>0.000</td>\n",
       "      <td>neutral</td>\n",
       "      <td>0.6486</td>\n",
       "      <td>positive</td>\n",
       "    </tr>\n",
       "    <tr>\n",
       "      <th>2</th>\n",
       "      <td>chopp, 16 Jan 2018hey guys iam confused betwee...</td>\n",
       "      <td>Anonymous</td>\n",
       "      <td>chopp  jan hey guy iam confused buying iphone ...</td>\n",
       "      <td>-0.400</td>\n",
       "      <td>negative</td>\n",
       "      <td>0.4019</td>\n",
       "      <td>positive</td>\n",
       "    </tr>\n",
       "    <tr>\n",
       "      <th>3</th>\n",
       "      <td>chopp, 16 Jan 2018hey guys iam confused betwee...</td>\n",
       "      <td>Tony</td>\n",
       "      <td>chopp  jan hey guy iam confused buying iphone ...</td>\n",
       "      <td>-0.400</td>\n",
       "      <td>negative</td>\n",
       "      <td>0.0000</td>\n",
       "      <td>neutral</td>\n",
       "    </tr>\n",
       "    <tr>\n",
       "      <th>4</th>\n",
       "      <td>hey guys iam confused between buying iphone x ...</td>\n",
       "      <td>Anonymous</td>\n",
       "      <td>hey guy iam confused buying iphone x huawei  p...</td>\n",
       "      <td>-0.400</td>\n",
       "      <td>negative</td>\n",
       "      <td>0.4019</td>\n",
       "      <td>positive</td>\n",
       "    </tr>\n",
       "  </tbody>\n",
       "</table>\n",
       "</div>"
      ],
      "text/plain": [
       "                                              Review   UserName  \\\n",
       "0  mir, 16 Jan 2018My Huawei Mate 10 Pro is alrea...      Mr No   \n",
       "1  This month it fell from 1149Â? to 999Â? in Ger...  Anonymous   \n",
       "2  chopp, 16 Jan 2018hey guys iam confused betwee...  Anonymous   \n",
       "3  chopp, 16 Jan 2018hey guys iam confused betwee...       Tony   \n",
       "4  hey guys iam confused between buying iphone x ...  Anonymous   \n",
       "\n",
       "                                          Review_new  \\\n",
       "0  mir  jan huawei mate  pro already two week old...   \n",
       "1  month fell   germany via resellers hoping cont...   \n",
       "2  chopp  jan hey guy iam confused buying iphone ...   \n",
       "3  chopp  jan hey guy iam confused buying iphone ...   \n",
       "4  hey guy iam confused buying iphone x huawei  p...   \n",
       "\n",
       "   Sentiment_score_Review_new Sentiment_TextBlob_label  Sentiment_score_VADER  \\\n",
       "0                       0.217                  neutral                 0.5994   \n",
       "1                       0.000                  neutral                 0.6486   \n",
       "2                      -0.400                 negative                 0.4019   \n",
       "3                      -0.400                 negative                 0.0000   \n",
       "4                      -0.400                 negative                 0.4019   \n",
       "\n",
       "  Sentiment_VADER_label  \n",
       "0              positive  \n",
       "1              positive  \n",
       "2              positive  \n",
       "3               neutral  \n",
       "4              positive  "
      ]
     },
     "execution_count": 49,
     "metadata": {},
     "output_type": "execute_result"
    }
   ],
   "source": [
    "df1['Sentiment_VADER_label'] = df1['Sentiment_score_VADER'].apply(get_sentiment_label)\n",
    "df1.head()"
   ]
  },
  {
   "cell_type": "code",
   "execution_count": 50,
   "id": "c6fac5ac",
   "metadata": {},
   "outputs": [
    {
     "name": "stdout",
     "output_type": "stream",
     "text": [
      "review Text Sentiment analysis using VADER (Rule Based Algorithm):\n",
      "\n"
     ]
    },
    {
     "data": {
      "text/plain": [
       "positive    970\n",
       "neutral     600\n",
       "negative    430\n",
       "Name: Sentiment_VADER_label, dtype: int64"
      ]
     },
     "execution_count": 50,
     "metadata": {},
     "output_type": "execute_result"
    }
   ],
   "source": [
    "print('review Text Sentiment analysis using VADER (Rule Based Algorithm):')\n",
    "print()\n",
    "df1['Sentiment_VADER_label'].value_counts()"
   ]
  },
  {
   "cell_type": "code",
   "execution_count": null,
   "id": "87b048c1",
   "metadata": {},
   "outputs": [],
   "source": [
    "#------------------------------------end------------------------------------------------------------------------#"
   ]
  }
 ],
 "metadata": {
  "kernelspec": {
   "display_name": "Python 3",
   "language": "python",
   "name": "python3"
  },
  "language_info": {
   "codemirror_mode": {
    "name": "ipython",
    "version": 3
   },
   "file_extension": ".py",
   "mimetype": "text/x-python",
   "name": "python",
   "nbconvert_exporter": "python",
   "pygments_lexer": "ipython3",
   "version": "3.6.13"
  }
 },
 "nbformat": 4,
 "nbformat_minor": 5
}
